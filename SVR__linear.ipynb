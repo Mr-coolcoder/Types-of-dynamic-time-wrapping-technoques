{
 "cells": [
  {
   "cell_type": "code",
   "execution_count": 15,
   "metadata": {
    "colab": {},
    "colab_type": "code",
    "id": "VubKFPSGX2Vt"
   },
   "outputs": [],
   "source": [
    "# Importing necessary libraries\n",
    "import numpy as np\n",
    "import pandas as pd\n",
    "import matplotlib.pyplot as plt\n",
    "from sklearn.model_selection import train_test_split\n",
    "from sklearn.preprocessing import StandardScaler\n",
    "from sklearn.pipeline import make_pipeline\n",
    "from sklearn.metrics import mean_absolute_error\n",
    "from sklearn.svm import SVR\n",
    "from sklearn.metrics import r2_score, mean_squared_error"
   ]
  },
  {
   "cell_type": "code",
   "execution_count": 16,
   "metadata": {
    "colab": {
     "base_uri": "https://localhost:8080/",
     "height": 52
    },
    "colab_type": "code",
    "id": "ZWRpf5KhX2V6",
    "outputId": "7cff060e-a092-454b-f711-c63aa027d517"
   },
   "outputs": [
    {
     "name": "stdout",
     "output_type": "stream",
     "text": [
      "(1400, 15)\n",
      "(1400,)\n"
     ]
    }
   ],
   "source": [
    "# Uploading the input data\n",
    "filepath = ('C:/Users/USER/Desktop/coursera/python/data for dl project/bootstrapped data.csv')\n",
    "data =pd.read_csv(filepath)\n",
    "X = data.iloc[0:1400,:-1]\n",
    "y = data.iloc[0:1400,-1]\n",
    "X.shape\n",
    "print(X.shape)\n",
    "print(y.shape)"
   ]
  },
  {
   "cell_type": "code",
   "execution_count": 17,
   "metadata": {
    "colab": {
     "base_uri": "https://localhost:8080/",
     "height": 329
    },
    "colab_type": "code",
    "id": "8UXkZIrsX4co",
    "outputId": "612b8d83-3d2e-4dd8-8f51-0a66d48e8ec9"
   },
   "outputs": [
    {
     "data": {
      "text/plain": [
       "(15, 15)"
      ]
     },
     "execution_count": 17,
     "metadata": {},
     "output_type": "execute_result"
    },
    {
     "data": {
      "image/png": "[encoded data removed]",
      "text/plain": [
       "<Figure size 432x288 with 2 Axes>"
      ]
     },
     "metadata": {},
     "output_type": "display_data"
    }
   ],
   "source": [
    "# Calculating correlation between input features\n",
    "corr = X.corr()\n",
    "import seaborn as sns\n",
    "sns.heatmap(corr)\n",
    "corr.shape"
   ]
  },
  {
   "cell_type": "code",
   "execution_count": 18,
   "metadata": {
    "colab": {
     "base_uri": "https://localhost:8080/",
     "height": 309
    },
    "colab_type": "code",
    "id": "Ljn9zzZDYBoK",
    "outputId": "b1af3b4e-b07c-4e63-adc3-bed9c5d3fc73"
   },
   "outputs": [
    {
     "name": "stdout",
     "output_type": "stream",
     "text": [
      "[ True  True  True  True  True  True  True  True  True  True  True  True\n",
      "  True  True  True]\n",
      "[ True  True  True  True  True  True  True False  True  True  True  True\n",
      "  True  True  True]\n"
     ]
    },
    {
     "data": {
      "text/html": [
       "<div>\n",
       "<style scoped>\n",
       "    .dataframe tbody tr th:only-of-type {\n",
       "        vertical-align: middle;\n",
       "    }\n",
       "\n",
       "    .dataframe tbody tr th {\n",
       "        vertical-align: top;\n",
       "    }\n",
       "\n",
       "    .dataframe thead th {\n",
       "        text-align: right;\n",
       "    }\n",
       "</style>\n",
       "<table border=\"1\" class=\"dataframe\">\n",
       "  <thead>\n",
       "    <tr style=\"text-align: right;\">\n",
       "      <th></th>\n",
       "      <th>Hs (X1)</th>\n",
       "      <th>Ht (X2)</th>\n",
       "      <th>Cv (X3)</th>\n",
       "      <th>FF (X4)</th>\n",
       "      <th>FD (X5)</th>\n",
       "      <th>SD (X6)</th>\n",
       "      <th>SA (X7)</th>\n",
       "      <th>MD (X9)</th>\n",
       "      <th>PD (X10)</th>\n",
       "      <th>TD (X11)</th>\n",
       "      <th>P (X12)</th>\n",
       "      <th>E (X13)</th>\n",
       "      <th>FR (X14)</th>\n",
       "      <th>TWL (X15)</th>\n",
       "    </tr>\n",
       "  </thead>\n",
       "  <tbody>\n",
       "    <tr>\n",
       "      <th>0</th>\n",
       "      <td>0.005167</td>\n",
       "      <td>0.005284</td>\n",
       "      <td>0.348857</td>\n",
       "      <td>1.629222</td>\n",
       "      <td>403.767705</td>\n",
       "      <td>47.488970</td>\n",
       "      <td>19.439385</td>\n",
       "      <td>55.0</td>\n",
       "      <td>45.0</td>\n",
       "      <td>55.0</td>\n",
       "      <td>60.0</td>\n",
       "      <td>35.0</td>\n",
       "      <td>25.0</td>\n",
       "      <td>51.666667</td>\n",
       "    </tr>\n",
       "    <tr>\n",
       "      <th>1</th>\n",
       "      <td>0.004333</td>\n",
       "      <td>0.005024</td>\n",
       "      <td>0.117171</td>\n",
       "      <td>1.664610</td>\n",
       "      <td>124.369644</td>\n",
       "      <td>123.864539</td>\n",
       "      <td>20.786422</td>\n",
       "      <td>50.0</td>\n",
       "      <td>35.0</td>\n",
       "      <td>40.0</td>\n",
       "      <td>55.0</td>\n",
       "      <td>35.0</td>\n",
       "      <td>40.0</td>\n",
       "      <td>43.333333</td>\n",
       "    </tr>\n",
       "    <tr>\n",
       "      <th>2</th>\n",
       "      <td>0.004267</td>\n",
       "      <td>0.005127</td>\n",
       "      <td>0.136262</td>\n",
       "      <td>1.935838</td>\n",
       "      <td>124.369644</td>\n",
       "      <td>55.876283</td>\n",
       "      <td>32.456879</td>\n",
       "      <td>45.0</td>\n",
       "      <td>35.0</td>\n",
       "      <td>40.0</td>\n",
       "      <td>55.0</td>\n",
       "      <td>40.0</td>\n",
       "      <td>30.0</td>\n",
       "      <td>42.666667</td>\n",
       "    </tr>\n",
       "    <tr>\n",
       "      <th>3</th>\n",
       "      <td>0.004000</td>\n",
       "      <td>0.002459</td>\n",
       "      <td>0.092059</td>\n",
       "      <td>1.307856</td>\n",
       "      <td>124.567093</td>\n",
       "      <td>187.092365</td>\n",
       "      <td>17.082540</td>\n",
       "      <td>40.0</td>\n",
       "      <td>45.0</td>\n",
       "      <td>40.0</td>\n",
       "      <td>50.0</td>\n",
       "      <td>25.0</td>\n",
       "      <td>25.0</td>\n",
       "      <td>40.000000</td>\n",
       "    </tr>\n",
       "    <tr>\n",
       "      <th>4</th>\n",
       "      <td>0.005367</td>\n",
       "      <td>0.004437</td>\n",
       "      <td>0.713431</td>\n",
       "      <td>1.469699</td>\n",
       "      <td>493.786526</td>\n",
       "      <td>57.456780</td>\n",
       "      <td>32.922497</td>\n",
       "      <td>60.0</td>\n",
       "      <td>45.0</td>\n",
       "      <td>55.0</td>\n",
       "      <td>60.0</td>\n",
       "      <td>40.0</td>\n",
       "      <td>25.0</td>\n",
       "      <td>53.666667</td>\n",
       "    </tr>\n",
       "  </tbody>\n",
       "</table>\n",
       "</div>"
      ],
      "text/plain": [
       "    Hs (X1)   Ht (X2)   Cv (X3)   FF (X4)     FD (X5)     SD (X6)    SA (X7)  \\\n",
       "0  0.005167  0.005284  0.348857  1.629222  403.767705   47.488970  19.439385   \n",
       "1  0.004333  0.005024  0.117171  1.664610  124.369644  123.864539  20.786422   \n",
       "2  0.004267  0.005127  0.136262  1.935838  124.369644   55.876283  32.456879   \n",
       "3  0.004000  0.002459  0.092059  1.307856  124.567093  187.092365  17.082540   \n",
       "4  0.005367  0.004437  0.713431  1.469699  493.786526   57.456780  32.922497   \n",
       "\n",
       "   MD (X9)  PD (X10)  TD (X11)  P (X12)  E (X13)  FR (X14)  TWL (X15)  \n",
       "0     55.0      45.0      55.0     60.0     35.0      25.0  51.666667  \n",
       "1     50.0      35.0      40.0     55.0     35.0      40.0  43.333333  \n",
       "2     45.0      35.0      40.0     55.0     40.0      30.0  42.666667  \n",
       "3     40.0      45.0      40.0     50.0     25.0      25.0  40.000000  \n",
       "4     60.0      45.0      55.0     60.0     40.0      25.0  53.666667  "
      ]
     },
     "execution_count": 18,
     "metadata": {},
     "output_type": "execute_result"
    }
   ],
   "source": [
    "# Calculating correlation between input features\n",
    "col = np.full((15),True, dtype=\"bool\")\n",
    "print(col)\n",
    "flag = 0\n",
    "if flag==0:\n",
    "    for i in range(12):\n",
    "        for j in range(i+1,12):\n",
    "            if abs(corr.iloc[i,j])>0.9:\n",
    "                col[j] = False\n",
    "    X = X.iloc[:,col]\n",
    "    flag = 1\n",
    "print(col)\n",
    "X.head()"
   ]
  },
  {
   "cell_type": "code",
   "execution_count": 19,
   "metadata": {
    "colab": {
     "base_uri": "https://localhost:8080/",
     "height": 35
    },
    "colab_type": "code",
    "id": "estWWcH4X2WM",
    "outputId": "94e0195c-b3c6-4493-fd0f-a4041824966a"
   },
   "outputs": [
    {
     "name": "stdout",
     "output_type": "stream",
     "text": [
      "(1120, 14) (280, 14) (1120, 1) (280, 1)\n"
     ]
    }
   ],
   "source": [
    "# Normalization followed by Splitting data into train and test sets\n",
    "y = np.array(y).reshape(-1,1)\n",
    "scale = StandardScaler()\n",
    "X = scale.fit_transform(X)\n",
    "X_train,X_test,y_train,y_test = train_test_split(X,y,test_size=.2,random_state=0)\n",
    "print(X_train.shape,X_test.shape,y_train.shape,y_test.shape)"
   ]
  },
  {
   "cell_type": "code",
   "execution_count": 20,
   "metadata": {
    "colab": {
     "base_uri": "https://localhost:8080/",
     "height": 52
    },
    "colab_type": "code",
    "id": "cWpCcvwgX2WY",
    "outputId": "de52518f-c330-4c41-8c21-caa1566a02e6"
   },
   "outputs": [
    {
     "data": {
      "text/plain": [
       "SVR(kernel='linear')"
      ]
     },
     "execution_count": 20,
     "metadata": {},
     "output_type": "execute_result"
    }
   ],
   "source": [
    "# Creating model\n",
    "regressor = SVR(kernel = 'linear')\n",
    "regressor.fit(X_train, np.ravel(y_train,order='C'))"
   ]
  },
  {
   "cell_type": "code",
   "execution_count": 21,
   "metadata": {
    "colab": {},
    "colab_type": "code",
    "id": "xIQ4uzZGX2Wm"
   },
   "outputs": [],
   "source": [
    "#regr = make_pipeline(StandardScaler(), SVR(C=1.0, epsilon=0.2))\n",
    "#regr.fit(X,  np.ravel(y,order='C'))"
   ]
  },
  {
   "cell_type": "code",
   "execution_count": 22,
   "metadata": {
    "colab": {},
    "colab_type": "code",
    "id": "hTbI-R_KX2XD"
   },
   "outputs": [],
   "source": [
    "y_Pred = regressor.predict(X_test)"
   ]
  },
  {
   "cell_type": "code",
   "execution_count": 23,
   "metadata": {
    "colab": {
     "base_uri": "https://localhost:8080/",
     "height": 297
    },
    "colab_type": "code",
    "id": "i7iV9hXpX2XP",
    "outputId": "de664c8e-6328-49c3-a31a-4a92440d615c",
    "scrolled": true
   },
   "outputs": [],
   "source": [
    "# plt.scatter(y_test,y_Pred,color=\"black\")\n",
    "# plt.plot(y_test,y_Pred,color=\"yellow\",label = \"SVR Model \")\n",
    "# plt.xlabel(\"Actual Reaction time\")\n",
    "# plt.ylabel(\"Predicted Reaction time \")\n",
    "# plt.legend()\n"
   ]
  },
  {
   "cell_type": "code",
   "execution_count": 24,
   "metadata": {
    "colab": {
     "base_uri": "https://localhost:8080/",
     "height": 35
    },
    "colab_type": "code",
    "id": "N-ckYuPKX2Xb",
    "outputId": "47fac09a-67d9-407b-96eb-3f416c03e7b4"
   },
   "outputs": [
    {
     "name": "stdout",
     "output_type": "stream",
     "text": [
      "R2 score: 0.8515756494941867\n",
      "MSE: 23.520259699180517\n",
      "MAE: 2.7146305242319833\n",
      "Pearson Correlation coefficient: 0.9263117844692192\n",
      "index: 0.039383569582843225\n"
     ]
    }
   ],
   "source": [
    "# Validating model\n",
    "score = regressor.score(X_test,y_test)\n",
    "r2score = r2_score(y_test,y_Pred)\n",
    "MSE = mean_squared_error(y_test,y_Pred)\n",
    "MAE = mean_absolute_error(y_test,y_Pred)\n",
    "print('R2 score:',r2score)\n",
    "print('MSE:',MSE)\n",
    "print('MAE:',MAE)\n",
    "y_Pred = np.array(y_Pred).reshape(-1,1)\n",
    "r = pd.DataFrame(np.concatenate((y_test,y_Pred), axis = 1)).corr()\n",
    "pear_coff = r.iloc[0,1]\n",
    "print('Pearson Correlation coefficient:',pear_coff)\n",
    "index = pear_coff/MSE\n",
    "print('index:',index)"
   ]
  },
  {
   "cell_type": "code",
   "execution_count": 25,
   "metadata": {},
   "outputs": [
    {
     "data": {
      "image/png": "[encoded data removed]",
      "text/plain": [
       "<Figure size 576x432 with 1 Axes>"
      ]
     },
     "metadata": {},
     "output_type": "display_data"
    }
   ],
   "source": [
    "# Visualizing model\n",
    "maxi = max(max(y_Pred), max(y_test))\n",
    "mini = min(min(y_Pred), min(y_test))\n",
    "fig = plt.figure(figsize=(8,6))\n",
    "plt.style.use('ggplot')\n",
    "plt.scatter(y_test, y_Pred, label='SVR polynomial model', c = 'b', marker='o')\n",
    "plt.plot(range(int(mini), int(maxi+1)), range(int(mini), int(maxi+1)),'-.r')\n",
    "plt.title('SVR polynomial model for mental fatigue estimation')\n",
    "plt.xlabel(\"Actual Reaction time\")\n",
    "plt.ylabel(\"Predicted Reaction time \")\n",
    "plt.legend(loc='best')\n",
    "plt.show()"
   ]
  },
  {
   "cell_type": "code",
   "execution_count": 26,
   "metadata": {},
   "outputs": [
    {
     "name": "stdout",
     "output_type": "stream",
     "text": [
      "FastDTW:  693.0171353211521\n"
     ]
    }
   ],
   "source": [
    "# Calculating FastDTW\n",
    "from fastdtw import fastdtw\n",
    "from scipy.spatial.distance import euclidean\n",
    "\n",
    "\n",
    "distance, path = fastdtw(y_test,y_Pred, dist=euclidean)\n",
    "\n",
    "print('FastDTW: ',distance)"
   ]
  },
  {
   "cell_type": "code",
   "execution_count": 27,
   "metadata": {},
   "outputs": [
    {
     "name": "stdout",
     "output_type": "stream",
     "text": [
      "DTW:  5233.993266919747\n"
     ]
    }
   ],
   "source": [
    "# Calculating DTW\n",
    "from dtw import dtw\n",
    "from scipy.spatial.distance import sqeuclidean\n",
    "d, cost_matrix, acc_cost_matrix, path = dtw(y_test,y_Pred, dist=sqeuclidean)\n",
    "print('DTW: ',d)"
   ]
  },
  {
   "cell_type": "code",
   "execution_count": 28,
   "metadata": {},
   "outputs": [
    {
     "ename": "ModuleNotFoundError",
     "evalue": "No module named 'cdtw'",
     "output_type": "error",
     "traceback": [
      "\u001b[1;31m---------------------------------------------------------------------------\u001b[0m",
      "\u001b[1;31mModuleNotFoundError\u001b[0m                       Traceback (most recent call last)",
      "\u001b[1;32m<ipython-input-28-d8e8f047a2b7>\u001b[0m in \u001b[0;36m<module>\u001b[1;34m\u001b[0m\n\u001b[0;32m      1\u001b[0m \u001b[1;31m# Calculating cDTW\u001b[0m\u001b[1;33m\u001b[0m\u001b[1;33m\u001b[0m\u001b[1;33m\u001b[0m\u001b[0m\n\u001b[1;32m----> 2\u001b[1;33m \u001b[1;32mfrom\u001b[0m \u001b[0mcdtw\u001b[0m \u001b[1;32mimport\u001b[0m \u001b[0mpydtw\u001b[0m\u001b[1;33m\u001b[0m\u001b[1;33m\u001b[0m\u001b[0m\n\u001b[0m\u001b[0;32m      3\u001b[0m d = pydtw.dtw(y_test,y_Pred,pydtw.Settings(step = 'p0sym',     \n\u001b[0;32m      4\u001b[0m                                 \u001b[0mwindow\u001b[0m \u001b[1;33m=\u001b[0m \u001b[1;34m'palival'\u001b[0m\u001b[1;33m,\u001b[0m\u001b[1;33m\u001b[0m\u001b[1;33m\u001b[0m\u001b[0m\n\u001b[0;32m      5\u001b[0m                                 \u001b[0mparam\u001b[0m \u001b[1;33m=\u001b[0m \u001b[1;36m2.0\u001b[0m\u001b[1;33m,\u001b[0m\u001b[1;33m\u001b[0m\u001b[1;33m\u001b[0m\u001b[0m\n",
      "\u001b[1;31mModuleNotFoundError\u001b[0m: No module named 'cdtw'"
     ]
    }
   ],
   "source": [
    "# Calculating cDTW\n",
    "from cdtw import pydtw\n",
    "d = pydtw.dtw(y_test,y_Pred,pydtw.Settings(step = 'p0sym',     \n",
    "                                window = 'palival', \n",
    "                                param = 2.0,        \n",
    "                                norm = False,       \n",
    "                                compute_path = True))\n",
    "d.get_dist()"
   ]
  }
 ],
 "metadata": {
  "colab": {
   "name": "SVR _linear.ipynb",
   "provenance": []
  },
  "kernelspec": {
   "display_name": "Python 3",
   "language": "python",
   "name": "python3"
  },
  "language_info": {
   "codemirror_mode": {
    "name": "ipython",
    "version": 3
   },
   "file_extension": ".py",
   "mimetype": "text/x-python",
   "name": "python",
   "nbconvert_exporter": "python",
   "pygments_lexer": "ipython3",
   "version": "3.8.5"
  }
 },
 "nbformat": 4,
 "nbformat_minor": 1
}
