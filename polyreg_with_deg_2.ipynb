{
 "cells": [
  {
   "cell_type": "code",
   "execution_count": 176,
   "metadata": {
    "colab": {},
    "colab_type": "code",
    "id": "4bNWzby01hSh"
   },
   "outputs": [],
   "source": [
    "# Importing necessary libraries\n",
    "import numpy as np\n",
    "import pandas as pd\n",
    "import matplotlib.pyplot as plt\n",
    "from sklearn.linear_model import LinearRegression\n",
    "from sklearn.metrics import mean_absolute_error\n",
    "from sklearn.preprocessing import PolynomialFeatures\n",
    "from sklearn.model_selection import train_test_split\n",
    "from sklearn.preprocessing import StandardScaler\n",
    "from sklearn.metrics import r2_score, mean_squared_error"
   ]
  },
  {
   "cell_type": "code",
   "execution_count": 177,
   "metadata": {
    "colab": {
     "base_uri": "https://localhost:8080/",
     "height": 52
    },
    "colab_type": "code",
    "id": "U5QTuDps1hS1",
    "outputId": "25bd4af1-5241-4851-daec-ae9a02e34e74"
   },
   "outputs": [
    {
     "name": "stdout",
     "output_type": "stream",
     "text": [
      "(1400, 15)\n",
      "(1400,)\n"
     ]
    }
   ],
   "source": [
    "# Uploading the input data\n",
    "filepath = ('C:/Users/USER/Desktop/coursera/python/data for dl project/bootstrapped data.csv')\n",
    "data =pd.read_csv(filepath)\n",
    "X = data.iloc[0:1400,:-1]\n",
    "y = data.iloc[0:1400,-1]\n",
    "print(X.shape)\n",
    "print(y.shape)"
   ]
  },
  {
   "cell_type": "code",
   "execution_count": 178,
   "metadata": {
    "colab": {
     "base_uri": "https://localhost:8080/",
     "height": 329
    },
    "colab_type": "code",
    "id": "YzwChM8A1hS_",
    "outputId": "0f9e962e-0564-4db6-e678-ed7095a26153"
   },
   "outputs": [
    {
     "data": {
      "text/plain": [
       "(15, 15)"
      ]
     },
     "execution_count": 178,
     "metadata": {},
     "output_type": "execute_result"
    },
    {
     "data": {
      "image/png": "[encoded data removed]",
      "text/plain": [
       "<Figure size 432x288 with 2 Axes>"
      ]
     },
     "metadata": {},
     "output_type": "display_data"
    }
   ],
   "source": [
    "# Calculating correlation between input features\n",
    "corr = X.corr()\n",
    "import seaborn as sns\n",
    "sns.heatmap(corr)\n",
    "corr.shape"
   ]
  },
  {
   "cell_type": "code",
   "execution_count": 179,
   "metadata": {
    "colab": {
     "base_uri": "https://localhost:8080/",
     "height": 309
    },
    "colab_type": "code",
    "id": "46sNaViN1hTG",
    "outputId": "746a1479-deab-446b-b6bb-8cdc3f09f355"
   },
   "outputs": [
    {
     "name": "stdout",
     "output_type": "stream",
     "text": [
      "[ True  True  True  True  True  True  True  True  True  True  True  True\n",
      "  True  True  True]\n",
      "[ True  True  True  True  True  True  True False  True  True  True  True\n",
      "  True  True  True]\n"
     ]
    },
    {
     "data": {
      "text/html": [
       "<div>\n",
       "<style scoped>\n",
       "    .dataframe tbody tr th:only-of-type {\n",
       "        vertical-align: middle;\n",
       "    }\n",
       "\n",
       "    .dataframe tbody tr th {\n",
       "        vertical-align: top;\n",
       "    }\n",
       "\n",
       "    .dataframe thead th {\n",
       "        text-align: right;\n",
       "    }\n",
       "</style>\n",
       "<table border=\"1\" class=\"dataframe\">\n",
       "  <thead>\n",
       "    <tr style=\"text-align: right;\">\n",
       "      <th></th>\n",
       "      <th>Hs (X1)</th>\n",
       "      <th>Ht (X2)</th>\n",
       "      <th>Cv (X3)</th>\n",
       "      <th>FF (X4)</th>\n",
       "      <th>FD (X5)</th>\n",
       "      <th>SD (X6)</th>\n",
       "      <th>SA (X7)</th>\n",
       "      <th>MD (X9)</th>\n",
       "      <th>PD (X10)</th>\n",
       "      <th>TD (X11)</th>\n",
       "      <th>P (X12)</th>\n",
       "      <th>E (X13)</th>\n",
       "      <th>FR (X14)</th>\n",
       "      <th>TWL (X15)</th>\n",
       "    </tr>\n",
       "  </thead>\n",
       "  <tbody>\n",
       "    <tr>\n",
       "      <th>0</th>\n",
       "      <td>0.005167</td>\n",
       "      <td>0.005284</td>\n",
       "      <td>0.348857</td>\n",
       "      <td>1.629222</td>\n",
       "      <td>403.767705</td>\n",
       "      <td>47.488970</td>\n",
       "      <td>19.439385</td>\n",
       "      <td>55.0</td>\n",
       "      <td>45.0</td>\n",
       "      <td>55.0</td>\n",
       "      <td>60.0</td>\n",
       "      <td>35.0</td>\n",
       "      <td>25.0</td>\n",
       "      <td>51.666667</td>\n",
       "    </tr>\n",
       "    <tr>\n",
       "      <th>1</th>\n",
       "      <td>0.004333</td>\n",
       "      <td>0.005024</td>\n",
       "      <td>0.117171</td>\n",
       "      <td>1.664610</td>\n",
       "      <td>124.369644</td>\n",
       "      <td>123.864539</td>\n",
       "      <td>20.786422</td>\n",
       "      <td>50.0</td>\n",
       "      <td>35.0</td>\n",
       "      <td>40.0</td>\n",
       "      <td>55.0</td>\n",
       "      <td>35.0</td>\n",
       "      <td>40.0</td>\n",
       "      <td>43.333333</td>\n",
       "    </tr>\n",
       "    <tr>\n",
       "      <th>2</th>\n",
       "      <td>0.004267</td>\n",
       "      <td>0.005127</td>\n",
       "      <td>0.136262</td>\n",
       "      <td>1.935838</td>\n",
       "      <td>124.369644</td>\n",
       "      <td>55.876283</td>\n",
       "      <td>32.456879</td>\n",
       "      <td>45.0</td>\n",
       "      <td>35.0</td>\n",
       "      <td>40.0</td>\n",
       "      <td>55.0</td>\n",
       "      <td>40.0</td>\n",
       "      <td>30.0</td>\n",
       "      <td>42.666667</td>\n",
       "    </tr>\n",
       "    <tr>\n",
       "      <th>3</th>\n",
       "      <td>0.004000</td>\n",
       "      <td>0.002459</td>\n",
       "      <td>0.092059</td>\n",
       "      <td>1.307856</td>\n",
       "      <td>124.567093</td>\n",
       "      <td>187.092365</td>\n",
       "      <td>17.082540</td>\n",
       "      <td>40.0</td>\n",
       "      <td>45.0</td>\n",
       "      <td>40.0</td>\n",
       "      <td>50.0</td>\n",
       "      <td>25.0</td>\n",
       "      <td>25.0</td>\n",
       "      <td>40.000000</td>\n",
       "    </tr>\n",
       "    <tr>\n",
       "      <th>4</th>\n",
       "      <td>0.005367</td>\n",
       "      <td>0.004437</td>\n",
       "      <td>0.713431</td>\n",
       "      <td>1.469699</td>\n",
       "      <td>493.786526</td>\n",
       "      <td>57.456780</td>\n",
       "      <td>32.922497</td>\n",
       "      <td>60.0</td>\n",
       "      <td>45.0</td>\n",
       "      <td>55.0</td>\n",
       "      <td>60.0</td>\n",
       "      <td>40.0</td>\n",
       "      <td>25.0</td>\n",
       "      <td>53.666667</td>\n",
       "    </tr>\n",
       "  </tbody>\n",
       "</table>\n",
       "</div>"
      ],
      "text/plain": [
       "    Hs (X1)   Ht (X2)   Cv (X3)   FF (X4)     FD (X5)     SD (X6)    SA (X7)  \\\n",
       "0  0.005167  0.005284  0.348857  1.629222  403.767705   47.488970  19.439385   \n",
       "1  0.004333  0.005024  0.117171  1.664610  124.369644  123.864539  20.786422   \n",
       "2  0.004267  0.005127  0.136262  1.935838  124.369644   55.876283  32.456879   \n",
       "3  0.004000  0.002459  0.092059  1.307856  124.567093  187.092365  17.082540   \n",
       "4  0.005367  0.004437  0.713431  1.469699  493.786526   57.456780  32.922497   \n",
       "\n",
       "   MD (X9)  PD (X10)  TD (X11)  P (X12)  E (X13)  FR (X14)  TWL (X15)  \n",
       "0     55.0      45.0      55.0     60.0     35.0      25.0  51.666667  \n",
       "1     50.0      35.0      40.0     55.0     35.0      40.0  43.333333  \n",
       "2     45.0      35.0      40.0     55.0     40.0      30.0  42.666667  \n",
       "3     40.0      45.0      40.0     50.0     25.0      25.0  40.000000  \n",
       "4     60.0      45.0      55.0     60.0     40.0      25.0  53.666667  "
      ]
     },
     "execution_count": 179,
     "metadata": {},
     "output_type": "execute_result"
    }
   ],
   "source": [
    "# Calculating correlation between input features\n",
    "col = np.full((15),True, dtype=\"bool\")\n",
    "print(col)\n",
    "flag = 0\n",
    "if flag==0:\n",
    "    for i in range(12):\n",
    "        for j in range(i+1,12):\n",
    "            if abs(corr.iloc[i,j])>0.9:\n",
    "                col[j] = False\n",
    "    X = X.iloc[:,col]\n",
    "    flag = 1\n",
    "print(col)\n",
    "X.head()"
   ]
  },
  {
   "cell_type": "code",
   "execution_count": 180,
   "metadata": {
    "colab": {
     "base_uri": "https://localhost:8080/",
     "height": 35
    },
    "colab_type": "code",
    "id": "vEeBj23A1hTL",
    "outputId": "d3df9693-1e0c-468a-8b1d-b207ea75868a"
   },
   "outputs": [
    {
     "name": "stdout",
     "output_type": "stream",
     "text": [
      "(1120, 14) (280, 14) (1120, 1) (280, 1)\n"
     ]
    }
   ],
   "source": [
    "# Normalization followed by Splitting data into train and test sets\n",
    "y = np.array(y).reshape(-1,1)\n",
    "scale = StandardScaler()\n",
    "X = scale.fit_transform(X)\n",
    "X_train,X_test,y_train,y_test = train_test_split(X,y,test_size=.2,random_state=0)\n",
    "print(X_train.shape,X_test.shape,y_train.shape,y_test.shape)"
   ]
  },
  {
   "cell_type": "code",
   "execution_count": 181,
   "metadata": {
    "colab": {},
    "colab_type": "code",
    "id": "CUfz2PBB1hTW"
   },
   "outputs": [],
   "source": [
    "# Inserting polynomial features\n",
    "poly = PolynomialFeatures(degree=2)\n",
    "X_poly = poly.fit_transform(X_train)\n",
    "x_test_poly = poly.transform(X_test)"
   ]
  },
  {
   "cell_type": "code",
   "execution_count": 182,
   "metadata": {
    "colab": {},
    "colab_type": "code",
    "id": "nFEmq1uu1hTd"
   },
   "outputs": [],
   "source": [
    "# poly.fit(X_poly,y_train)"
   ]
  },
  {
   "cell_type": "code",
   "execution_count": 183,
   "metadata": {
    "colab": {},
    "colab_type": "code",
    "id": "j7NaAPQE1hTi"
   },
   "outputs": [
    {
     "data": {
      "text/plain": [
       "LinearRegression()"
      ]
     },
     "execution_count": 183,
     "metadata": {},
     "output_type": "execute_result"
    }
   ],
   "source": [
    "# Creating model\n",
    "linreg = LinearRegression()\n",
    "linreg.fit(X_poly,y_train)"
   ]
  },
  {
   "cell_type": "code",
   "execution_count": 184,
   "metadata": {
    "colab": {},
    "colab_type": "code",
    "id": "iGC1LqMa1hTt"
   },
   "outputs": [],
   "source": [
    "y_Pred = linreg.predict(x_test_poly)"
   ]
  },
  {
   "cell_type": "code",
   "execution_count": 185,
   "metadata": {
    "colab": {
     "base_uri": "https://localhost:8080/",
     "height": 297
    },
    "colab_type": "code",
    "id": "8Z--FJH11hT0",
    "outputId": "352be138-f365-4416-fea6-164f3e343837",
    "scrolled": false
   },
   "outputs": [
    {
     "data": {
      "text/plain": [
       "<matplotlib.legend.Legend at 0x142e4748>"
      ]
     },
     "execution_count": 185,
     "metadata": {},
     "output_type": "execute_result"
    },
    {
     "data": {
      "image/png": "[encoded data removed]",
      "text/plain": [
       "<Figure size 432x288 with 1 Axes>"
      ]
     },
     "metadata": {},
     "output_type": "display_data"
    }
   ],
   "source": [
    "plt.scatter(y_test,y_Pred,color=\"black\")\n",
    "plt.plot(y_test,y_Pred,color=\"yellow\",label = \"Poly reg Model with degree 3\")\n",
    "plt.xlabel(\"Actual Reaction time\")\n",
    "plt.ylabel(\"Predicted Reaction time \")\n",
    "plt.legend()\n"
   ]
  },
  {
   "cell_type": "code",
   "execution_count": 186,
   "metadata": {
    "colab": {
     "base_uri": "https://localhost:8080/",
     "height": 35
    },
    "colab_type": "code",
    "id": "LKAic16_1hT7",
    "outputId": "2db3a71b-f992-488b-e915-6691de4b147b"
   },
   "outputs": [
    {
     "name": "stdout",
     "output_type": "stream",
     "text": [
      "R2 score: 1.0\n",
      "MSE: 5.12371919605949e-27\n",
      "MAE: 5.440727233820196e-14\n",
      "Pearson Correlation coefficient: 0.9999999999999989\n",
      "index: 1.9517072691436155e+26\n"
     ]
    }
   ],
   "source": [
    "score = linreg.score(poly.fit_transform(X),y)\n",
    "r2score = r2_score(y_test,y_Pred)\n",
    "MSE = mean_squared_error(y_test,y_Pred)\n",
    "MAE = mean_absolute_error(y_test,y_Pred)\n",
    "print('R2 score:',r2score)\n",
    "print('MSE:',MSE)\n",
    "print('MAE:',MAE)\n",
    "r = pd.DataFrame(np.concatenate((y_test,y_Pred), axis = 1)).corr()\n",
    "pear_coff = r.iloc[0,1]\n",
    "print('Pearson Correlation coefficient:',pear_coff)\n",
    "index = pear_coff/MSE\n",
    "print('index:',index)"
   ]
  },
  {
   "cell_type": "code",
   "execution_count": 187,
   "metadata": {},
   "outputs": [
    {
     "data": {
      "image/png": "[encoded data removed]",
      "text/plain": [
       "<Figure size 576x432 with 1 Axes>"
      ]
     },
     "metadata": {},
     "output_type": "display_data"
    }
   ],
   "source": [
    "# Visualizing model\n",
    "maxi = max(max(y_Pred), max(y_test))\n",
    "mini = min(min(y_Pred), min(y_test))\n",
    "fig = plt.figure(figsize=(8,6))\n",
    "plt.style.use('ggplot')\n",
    "plt.scatter(y_test, y_Pred, label='Polynomial model', c = 'b', marker='o')\n",
    "plt.plot(range(int(mini), int(maxi+1)), range(int(mini), int(maxi+1)),'-.r')\n",
    "plt.title('Polynomial model for mental fatigue estimation')\n",
    "plt.xlabel(\"Actual Reaction time\")\n",
    "plt.ylabel(\"Predicted Reaction time \")\n",
    "plt.legend(loc='best')\n",
    "plt.show()"
   ]
  },
  {
   "cell_type": "code",
   "execution_count": 188,
   "metadata": {},
   "outputs": [
    {
     "name": "stdout",
     "output_type": "stream",
     "text": [
      "1.4346413748966574e-24\n"
     ]
    }
   ],
   "source": [
    "# Calculating FastDTW\n",
    "from fastdtw import fastdtw\n",
    "from scipy.spatial.distance import sqeuclidean\n",
    "\n",
    "\n",
    "distance, path = fastdtw(y_test,y_Pred, dist=sqeuclidean)\n",
    "\n",
    "print(distance)"
   ]
  },
  {
   "cell_type": "code",
   "execution_count": 189,
   "metadata": {},
   "outputs": [
    {
     "name": "stdout",
     "output_type": "stream",
     "text": [
      "1.4346413748966574e-24\n"
     ]
    }
   ],
   "source": [
    "# Calculating DTW\n",
    "from dtw import dtw\n",
    "from scipy.spatial.distance import sqeuclidean\n",
    "d, cost_matrix, acc_cost_matrix, path = dtw(y_test,y_Pred, dist=sqeuclidean)\n",
    "print(d)"
   ]
  },
  {
   "cell_type": "code",
   "execution_count": 190,
   "metadata": {},
   "outputs": [
    {
     "ename": "ModuleNotFoundError",
     "evalue": "No module named 'cdtw'",
     "output_type": "error",
     "traceback": [
      "\u001b[1;31m---------------------------------------------------------------------------\u001b[0m",
      "\u001b[1;31mModuleNotFoundError\u001b[0m                       Traceback (most recent call last)",
      "\u001b[1;32m<ipython-input-190-d8e8f047a2b7>\u001b[0m in \u001b[0;36m<module>\u001b[1;34m\u001b[0m\n\u001b[0;32m      1\u001b[0m \u001b[1;31m# Calculating cDTW\u001b[0m\u001b[1;33m\u001b[0m\u001b[1;33m\u001b[0m\u001b[1;33m\u001b[0m\u001b[0m\n\u001b[1;32m----> 2\u001b[1;33m \u001b[1;32mfrom\u001b[0m \u001b[0mcdtw\u001b[0m \u001b[1;32mimport\u001b[0m \u001b[0mpydtw\u001b[0m\u001b[1;33m\u001b[0m\u001b[1;33m\u001b[0m\u001b[0m\n\u001b[0m\u001b[0;32m      3\u001b[0m d = pydtw.dtw(y_test,y_Pred,pydtw.Settings(step = 'p0sym',     \n\u001b[0;32m      4\u001b[0m                                 \u001b[0mwindow\u001b[0m \u001b[1;33m=\u001b[0m \u001b[1;34m'palival'\u001b[0m\u001b[1;33m,\u001b[0m\u001b[1;33m\u001b[0m\u001b[1;33m\u001b[0m\u001b[0m\n\u001b[0;32m      5\u001b[0m                                 \u001b[0mparam\u001b[0m \u001b[1;33m=\u001b[0m \u001b[1;36m2.0\u001b[0m\u001b[1;33m,\u001b[0m\u001b[1;33m\u001b[0m\u001b[1;33m\u001b[0m\u001b[0m\n",
      "\u001b[1;31mModuleNotFoundError\u001b[0m: No module named 'cdtw'"
     ]
    }
   ],
   "source": [
    "# Calculating cDTW\n",
    "from cdtw import pydtw\n",
    "d = pydtw.dtw(y_test,y_Pred,pydtw.Settings(step = 'p0sym',     \n",
    "                                window = 'palival', \n",
    "                                param = 2.0,        \n",
    "                                norm = False,       \n",
    "                                compute_path = True))\n",
    "d.get_dist()"
   ]
  }
 ],
 "metadata": {
  "colab": {
   "name": "polyreg with deg 3.ipynb",
   "provenance": []
  },
  "kernelspec": {
   "display_name": "Python 3",
   "language": "python",
   "name": "python3"
  },
  "language_info": {
   "codemirror_mode": {
    "name": "ipython",
    "version": 3
   },
   "file_extension": ".py",
   "mimetype": "text/x-python",
   "name": "python",
   "nbconvert_exporter": "python",
   "pygments_lexer": "ipython3",
   "version": "3.8.5"
  }
 },
 "nbformat": 4,
 "nbformat_minor": 1
}
